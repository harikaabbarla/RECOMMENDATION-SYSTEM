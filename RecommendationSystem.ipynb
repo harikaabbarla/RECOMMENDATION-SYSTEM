{
 "cells": [
  {
   "cell_type": "code",
   "execution_count": 2,
   "id": "9f95e4cc-35dc-4274-8f89-921b15792796",
   "metadata": {},
   "outputs": [
    {
     "name": "stdin",
     "output_type": "stream",
     "text": [
      "Enter the user id number:  50\n",
      "Enter the number of recommendations to be return for the user:  2\n"
     ]
    },
    {
     "name": "stdout",
     "output_type": "stream",
     "text": [
      "Recommended Movies for the user with ID 50\n",
      "                          title\n",
      "46   Usual Suspects, The (1995)\n",
      "461     Schindler's List (1993)\n",
      "RMSE of the recommendation system: 2.8602\n"
     ]
    }
   ],
   "source": [
    "# importing required libraries for recommendation system\n",
    "import pandas as pd\n",
    "import numpy as np\n",
    "from math import sqrt\n",
    "from sklearn.decomposition import TruncatedSVD  # a dimensionality reduction technique (Singular Value Decomposition)\n",
    "from sklearn.metrics.pairwise import cosine_similarity\n",
    "from sklearn.metrics import mean_squared_error\n",
    "# Loading required dataset for the recommendation\n",
    "ratings=pd.read_csv('ratings.csv')\n",
    "ratings.head()\n",
    "movies=pd.read_csv('movies.csv')\n",
    "movies.head()\n",
    "# creating a user item matrix\n",
    "user_item_matrix=ratings.pivot_table(index='userId',columns='movieId',values='rating').fillna(0)\n",
    "# Apply matrix factorization using SVD\n",
    "svd=TruncatedSVD(n_components=20)\n",
    "reduced_mat=svd.fit_transform(user_item_matrix)\n",
    "# computing cosine similarity between users\n",
    "user_similarity = cosine_similarity(reduced_mat)\n",
    "# converting this similarity into dataframe\n",
    "user_similarity_df=pd.DataFrame(user_similarity,index=user_item_matrix.index,columns=user_item_matrix.index)\n",
    "# Function to get top n similar users\n",
    "def get_similar_users(user_id,n=5):\n",
    "  return user_similarity_df[user_id].sort_values(ascending=False)[1:n+1]\n",
    "# Function to recommend movies\n",
    "def recommend_movies(user_id,n_recommendations):\n",
    "  similar_users=get_similar_users(user_id)\n",
    "  similar_user_ratings=user_item_matrix.loc[similar_users.index]\n",
    "  mean_ratings=similar_user_ratings.mean().sort_values(ascending=False)\n",
    "  movies_seen = user_item_matrix.loc[user_id][user_item_matrix.loc[user_id] > 0].index\n",
    "  recommendations = mean_ratings.drop(movies_seen).head(n_recommendations)\n",
    "  return movies[movies['movieId'].isin(recommendations.index)]\n",
    "def predict_ratings(user_id):\n",
    "  similar_users=get_similar_users(user_id)\n",
    "  similar_user_ratings=user_item_matrix.loc[similar_users.index]\n",
    "  predicted_ratings=similar_user_ratings.mean()\n",
    "  return predicted_ratings\n",
    "\n",
    "actual_ratings = []\n",
    "predicted_ratings = []\n",
    "\n",
    "# Iterate over all users\n",
    "for user_id in user_item_matrix.index:\n",
    "    user_rated_movies = user_item_matrix.loc[user_id]\n",
    "    predicted = predict_ratings(user_id)\n",
    "    # Align only on movies that the user has rated\n",
    "    common_movies = user_rated_movies[user_rated_movies > 0].index\n",
    "    if len(common_movies) == 0:\n",
    "        continue\n",
    "    actual = user_rated_movies[common_movies]\n",
    "    predicted_vals = predicted[common_movies]\n",
    "    actual_ratings.extend(actual.values)\n",
    "    predicted_ratings.extend(predicted_vals.values)\n",
    "user_id=int(input(\"Enter the user id number: \"))\n",
    "n_recommendations=int(input(\"Enter the number of recommendations to be return for the user: \"))\n",
    "recommended=recommend_movies(user_id,n_recommendations)\n",
    "print(f\"Recommended Movies for the user with ID {user_id}\")\n",
    "print(recommended[['title']])\n",
    "rmse = sqrt(mean_squared_error(actual_ratings, predicted_ratings))\n",
    "print(f\"RMSE of the recommendation system: {rmse:.4f}\")"
   ]
  }
 ],
 "metadata": {
  "kernelspec": {
   "display_name": "Python 3 (ipykernel)",
   "language": "python",
   "name": "python3"
  },
  "language_info": {
   "codemirror_mode": {
    "name": "ipython",
    "version": 3
   },
   "file_extension": ".py",
   "mimetype": "text/x-python",
   "name": "python",
   "nbconvert_exporter": "python",
   "pygments_lexer": "ipython3",
   "version": "3.12.7"
  }
 },
 "nbformat": 4,
 "nbformat_minor": 5
}
